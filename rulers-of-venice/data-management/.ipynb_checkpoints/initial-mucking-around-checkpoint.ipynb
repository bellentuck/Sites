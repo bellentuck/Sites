{
 "cells": [
  {
   "cell_type": "markdown",
   "metadata": {},
   "source": [
    "#### Goal: \n",
    "Coerce files from DB3 format to Excel, via Python!\n",
    "\n",
    "#### Kinds of content in these files:\n",
    "These files contain the following content about early modern Venice:\n",
    "- Names of citizens\n",
    "- Laws and citizenships\n",
    "- Officeholders"
   ]
  },
  {
   "cell_type": "markdown",
   "metadata": {},
   "source": [
    "#### Let's start with a single data file\n",
    "Here's its original format, in the form `filename: fileformat/filetype; charset=encoding`:\n",
    "- `CITTADIN.DBF: application/octet-stream; charset=binary`\n",
    "\n",
    "In other words the format is \"application,\" the type is \"octet-stream,\" and the encoding is \"binary.\""
   ]
  },
  {
   "cell_type": "code",
   "execution_count": null,
   "metadata": {
    "collapsed": true
   },
   "outputs": [],
   "source": []
  }
 ],
 "metadata": {
  "anaconda-cloud": {},
  "kernelspec": {
   "display_name": "Python [conda root]",
   "language": "python",
   "name": "conda-root-py"
  },
  "language_info": {
   "codemirror_mode": {
    "name": "ipython",
    "version": 2
   },
   "file_extension": ".py",
   "mimetype": "text/x-python",
   "name": "python",
   "nbconvert_exporter": "python",
   "pygments_lexer": "ipython2",
   "version": "2.7.12"
  }
 },
 "nbformat": 4,
 "nbformat_minor": 1
}
