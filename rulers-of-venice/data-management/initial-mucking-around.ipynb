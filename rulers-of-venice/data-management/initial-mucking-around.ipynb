{
 "cells": [
  {
   "cell_type": "markdown",
   "metadata": {},
   "source": [
    "#### Goal: \n",
    "Coerce files from DB3 format to Excel, via Python!\n",
    "\n",
    "#### Kinds of content in these files:\n",
    "These files contain the following content about early modern Venice:\n",
    "- Names of citizens\n",
    "- Laws and citizenships\n",
    "- Officeholders"
   ]
  },
  {
   "cell_type": "markdown",
   "metadata": {},
   "source": [
    "#### Let's start with a single data file\n",
    "Here's its original format, in the form `filename: fileformat/filetype; charset=encoding`:\n",
    "- `CITTADIN.DBF: application/octet-stream; charset=binary`\n",
    "\n",
    "In other words the format is \"application,\" the type is \"octet-stream,\" and the encoding is \"binary.\""
   ]
  },
  {
   "cell_type": "markdown",
   "metadata": {},
   "source": [
    "#### First try: `simpledbf` library"
   ]
  },
  {
   "cell_type": "code",
   "execution_count": 2,
   "metadata": {
    "collapsed": false
   },
   "outputs": [
    {
     "name": "stdout",
     "output_type": "stream",
     "text": [
      "Collecting simpledbf\n",
      "  Downloading simpledbf-0.2.6.tar.gz\n",
      "Installing collected packages: simpledbf\n",
      "  Running setup.py install for simpledbf ... \u001b[?25l-\b \b\\\b \bdone\n",
      "\u001b[?25hSuccessfully installed simpledbf-0.2.6\n"
     ]
    }
   ],
   "source": [
    "!pip install simpledbf"
   ]
  },
  {
   "cell_type": "code",
   "execution_count": null,
   "metadata": {
    "collapsed": true
   },
   "outputs": [],
   "source": [
    "##https://gist.github.com/ryan-hill/f90b1c68f60d12baea81"
   ]
  },
  {
   "cell_type": "code",
   "execution_count": 3,
   "metadata": {
    "collapsed": false
   },
   "outputs": [],
   "source": [
    "import pandas as pd"
   ]
  },
  {
   "cell_type": "code",
   "execution_count": 6,
   "metadata": {
    "collapsed": false
   },
   "outputs": [
    {
     "name": "stdout",
     "output_type": "stream",
     "text": [
      "Requirement already satisfied: pysal in /Library/Frameworks/Python.framework/Versions/2.7/lib/python2.7/site-packages\n",
      "Requirement already satisfied: scipy>=0.11 in /Library/Frameworks/Python.framework/Versions/2.7/lib/python2.7/site-packages (from pysal)\n",
      "Requirement already satisfied: numpy>=1.3 in /Library/Frameworks/Python.framework/Versions/2.7/lib/python2.7/site-packages (from pysal)\n"
     ]
    }
   ],
   "source": [
    "!pip install pysal"
   ]
  },
  {
   "cell_type": "code",
   "execution_count": 7,
   "metadata": {
    "collapsed": false
   },
   "outputs": [
    {
     "ename": "ImportError",
     "evalue": "No module named pysal",
     "output_type": "error",
     "traceback": [
      "\u001b[0;31m---------------------------------------------------------------------------\u001b[0m",
      "\u001b[0;31mImportError\u001b[0m                               Traceback (most recent call last)",
      "\u001b[0;32m<ipython-input-7-fd89a27f1db3>\u001b[0m in \u001b[0;36m<module>\u001b[0;34m()\u001b[0m\n\u001b[0;32m----> 1\u001b[0;31m \u001b[0;32mimport\u001b[0m \u001b[0mpysal\u001b[0m\u001b[0;34m\u001b[0m\u001b[0m\n\u001b[0m",
      "\u001b[0;31mImportError\u001b[0m: No module named pysal"
     ]
    }
   ],
   "source": [
    "import pysal"
   ]
  },
  {
   "cell_type": "code",
   "execution_count": null,
   "metadata": {
    "collapsed": true
   },
   "outputs": [],
   "source": []
  }
 ],
 "metadata": {
  "anaconda-cloud": {},
  "kernelspec": {
   "display_name": "Python [conda root]",
   "language": "python",
   "name": "conda-root-py"
  },
  "language_info": {
   "codemirror_mode": {
    "name": "ipython",
    "version": 2
   },
   "file_extension": ".py",
   "mimetype": "text/x-python",
   "name": "python",
   "nbconvert_exporter": "python",
   "pygments_lexer": "ipython2",
   "version": "2.7.12"
  }
 },
 "nbformat": 4,
 "nbformat_minor": 1
}
